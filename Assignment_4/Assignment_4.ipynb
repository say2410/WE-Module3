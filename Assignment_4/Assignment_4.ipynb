{
  "nbformat": 4,
  "nbformat_minor": 0,
  "metadata": {
    "colab": {
      "provenance": []
    },
    "kernelspec": {
      "name": "python3",
      "display_name": "Python 3"
    },
    "language_info": {
      "name": "python"
    }
  },
  "cells": [
    {
      "cell_type": "code",
      "execution_count": 1,
      "metadata": {
        "colab": {
          "base_uri": "https://localhost:8080/"
        },
        "id": "DL-wkcuQF_3t",
        "outputId": "c650116c-ca05-464e-ac45-f99bdf18a965"
      },
      "outputs": [
        {
          "output_type": "stream",
          "name": "stdout",
          "text": [
            "Word pairs dictionary:\n",
            "('i', 'love') -> ['programming']\n",
            "('love', 'programming') -> ['programming']\n",
            "('programming', 'programming') -> ['is']\n",
            "('programming', 'is') -> ['fun']\n",
            "('is', 'fun') -> ['programming']\n",
            "('fun', 'programming') -> ['makes']\n",
            "('programming', 'makes') -> ['me']\n",
            "('makes', 'me') -> ['happy']\n",
            "\n",
            "programming is fun programming makes me happy fun fun programming\n"
          ]
        }
      ],
      "source": [
        "import random\n",
        "import re\n",
        "\n",
        "def preprocess_corpus(file_name):\n",
        "    with open(file_name, 'r') as file:\n",
        "        text = file.read().lower()  # Read and convert to lowercase\n",
        "        text = re.sub(r'\\n', ' ', text)  # Replace newlines with spaces\n",
        "        text = re.sub(r'[^\\w\\s]', '', text)  # Remove punctuation\n",
        "        words = text.split()  # Tokenize into words\n",
        "    return words\n",
        "\n",
        "def generate_markov_chain(start_words, output_length, chain_length, file_name):\n",
        "    word_pairs = {}\n",
        "    words = preprocess_corpus(file_name)\n",
        "\n",
        "    # Construct word pairs of given chain length and their following word\n",
        "    for i in range(len(words) - chain_length):\n",
        "        current_words = tuple(words[i:i+chain_length])\n",
        "        next_word = words[i + chain_length]\n",
        "        if current_words not in word_pairs:\n",
        "            word_pairs[current_words] = []\n",
        "        word_pairs[current_words].append(next_word)\n",
        "\n",
        "    # Print the constructed dictionary\n",
        "    print(\"Word pairs dictionary:\")\n",
        "    for key, value in word_pairs.items():\n",
        "        print(key, \"->\", value)\n",
        "    print()\n",
        "\n",
        "    # Generate the chain\n",
        "    current_words = start_words\n",
        "    chain = list(current_words)\n",
        "    while len(chain) < output_length:\n",
        "        if current_words in word_pairs:\n",
        "            next_word_options = [word for word in word_pairs[current_words] if word != current_words[-1]]\n",
        "            if next_word_options:\n",
        "                next_word = random.choice(next_word_options)\n",
        "                chain.append(next_word)\n",
        "                current_words = current_words[1:] + (next_word,)\n",
        "            else:\n",
        "                break\n",
        "        else:\n",
        "            break\n",
        "\n",
        "    # If chain is shorter than the desired length, fill it with random words from the corpus\n",
        "    while len(chain) < output_length:\n",
        "        next_word = random.choice(words)\n",
        "        chain.append(next_word)\n",
        "        current_words = current_words[1:] + (next_word,)\n",
        "\n",
        "    return ' '.join(chain)\n",
        "\n",
        "# Example usage\n",
        "start_words = (\"programming\", \"is\")  # Start word of length two\n",
        "output_length = 10\n",
        "chain_length = 2\n",
        "file_name = \"corpus.txt\"  # Replace with your file name\n",
        "generated_sentence = generate_markov_chain(start_words, output_length, chain_length, file_name)\n",
        "print(generated_sentence)\n",
        "\n"
      ]
    }
  ]
}
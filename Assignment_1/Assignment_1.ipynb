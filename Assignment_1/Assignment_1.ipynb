{
  "nbformat": 4,
  "nbformat_minor": 0,
  "metadata": {
    "colab": {
      "provenance": []
    },
    "kernelspec": {
      "name": "python3",
      "display_name": "Python 3"
    },
    "language_info": {
      "name": "python"
    }
  },
  "cells": [
    {
      "cell_type": "code",
      "source": [
        "def min_idlis_to_distribute(idlis_held):\n",
        "  total_imbalance = sum(i % 2 for i in idlis_held)  # Calculate total imbalance\n",
        "  if total_imbalance % 2 != 0:  # Check for divisibility by 2\n",
        "    return -1\n",
        "  return total_imbalance  # Minimum idlis to distribute\n",
        "\n",
        "# Test cases\n",
        "test_cases = [\n",
        "    ([2, 4, 1, 3], 2),  # Uneven distribution (correct output: 2)\n",
        "    ([1, 2, 3, 4], 2),  # Uneven distribution\n",
        "    ([1, 3, 5, 2], -1),  # Impossible distribution (odd total imbalance)\n",
        "    ([4], 0),           # Single person (even)\n",
        "    ([1], -1),          # Single person (odd)\n",
        "    ([2, 3, 4, 5, 6, 7, 8, 9, 10, 11, 12, 13, 14, 15, 16, 17, 18, 19, 20, 21, 22, 23, 24, 25, 26, 27, 28, 29, 30, 31, 32, 33, 34, 35, 36, 37, 38, 39, 40, 41, 42, 43, 44, 45, 46, 47, 48, 49, 50, 51, 52, 53, 54, 55, 56, 57, 58, 59, 60, 61, 62, 63, 64, 65, 66, 67, 68, 69, 70, 71, 72, 73, 74, 75, 76, 77, 78, 79, 80, 81, 82, 83, 84, 85, 86, 87, 88, 89, 90, 91, 92, 93, 94, 95, 96, 97, 98, 99, 100], -1),\n",
        "    ([2, 4, 6, 8], 0),\n",
        "    ([2, 4, 5, 7], 2),\n",
        "    ([2, 3, 5, 6], 2),\n",
        "    ([1, 3, 5, 7], 4)\n",
        "]\n",
        "\n",
        "for idlis_held, expected_output in test_cases:\n",
        "  actual_output = min_idlis_to_distribute(idlis_held.copy())  # Avoid modifying original list\n",
        "  print(f\"Input: idlis_held = {idlis_held}, Expected Output: {expected_output}, Actual Output: {actual_output}\")\n",
        "  assert actual_output == expected_output\n",
        "\n",
        "print(\"All test cases passed!\")\n"
      ],
      "metadata": {
        "colab": {
          "base_uri": "https://localhost:8080/"
        },
        "id": "dCQbXKBMnnsL",
        "outputId": "2aa131bc-b49d-4599-a82c-0a038fd457a6"
      },
      "execution_count": 13,
      "outputs": [
        {
          "output_type": "stream",
          "name": "stdout",
          "text": [
            "Input: idlis_held = [2, 4, 1, 3], Expected Output: 2, Actual Output: 2\n",
            "Input: idlis_held = [1, 2, 3, 4], Expected Output: 2, Actual Output: 2\n",
            "Input: idlis_held = [1, 3, 5, 2], Expected Output: -1, Actual Output: -1\n",
            "Input: idlis_held = [4], Expected Output: 0, Actual Output: 0\n",
            "Input: idlis_held = [1], Expected Output: -1, Actual Output: -1\n",
            "Input: idlis_held = [2, 3, 4, 5, 6, 7, 8, 9, 10, 11, 12, 13, 14, 15, 16, 17, 18, 19, 20, 21, 22, 23, 24, 25, 26, 27, 28, 29, 30, 31, 32, 33, 34, 35, 36, 37, 38, 39, 40, 41, 42, 43, 44, 45, 46, 47, 48, 49, 50, 51, 52, 53, 54, 55, 56, 57, 58, 59, 60, 61, 62, 63, 64, 65, 66, 67, 68, 69, 70, 71, 72, 73, 74, 75, 76, 77, 78, 79, 80, 81, 82, 83, 84, 85, 86, 87, 88, 89, 90, 91, 92, 93, 94, 95, 96, 97, 98, 99, 100], Expected Output: -1, Actual Output: -1\n",
            "Input: idlis_held = [2, 4, 6, 8], Expected Output: 0, Actual Output: 0\n",
            "Input: idlis_held = [2, 4, 5, 7], Expected Output: 2, Actual Output: 2\n",
            "Input: idlis_held = [2, 3, 5, 6], Expected Output: 2, Actual Output: 2\n",
            "Input: idlis_held = [1, 3, 5, 7], Expected Output: 4, Actual Output: 4\n",
            "All test cases passed!\n"
          ]
        }
      ]
    }
  ]
}